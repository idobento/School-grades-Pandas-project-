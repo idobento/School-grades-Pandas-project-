{
 "cells": [
  {
   "cell_type": "code",
   "execution_count": 7,
   "id": "ca3f5ef9",
   "metadata": {},
   "outputs": [],
   "source": [
    "# TODO: use x = \"\"\" and new lines go here instead of multiple prints \"\"\"; print(x) DONE\n",
    "\n",
    "def intro_text():\n",
    "    text=\"\"\"Hello! \\n\n",
    "I'm here to assist teachers in organizing and tracking their students' grades in various courses. \\n\n",
    "I can generate average grades for each student and course, provide insights into student performance across courses \\n\n",
    "and even identify the top five students in all courses.\\n\n",
    "Let's start!\"\"\";print(text)"
   ]
  },
  {
   "cell_type": "code",
   "execution_count": 11,
   "id": "a9c17172",
   "metadata": {},
   "outputs": [],
   "source": [
    "def menu_text():\n",
    "    text=\"\"\"\\nPlease choose an option from the following menu:\\n\n",
    "1) Display the average grade in each course\n",
    "2) Display the average grade of a specific student\n",
    "3) Add a new grade\n",
    "4) Add a new course\n",
    "5) Add a new student\n",
    "6) Correct a grade\n",
    "7) Provide statistics for a specific course\n",
    "8) Show the top 5 students\n",
    "9) Exit\"\"\"; print(text)"
   ]
  },
  {
   "cell_type": "code",
   "execution_count": 9,
   "id": "fc7beb72",
   "metadata": {},
   "outputs": [],
   "source": [
    "def goodbye_text():\n",
    "    text=\"\"\"Thank you for using our app!\\n\n",
    "We hope you had a great experience. \\n\n",
    "Please note that all the changes you made during your session have been automatically saved.\\n\n",
    "Feel free to return anytime for more seamless management and convenience. \\n\n",
    "Goodbye, and have a wonderful day!\\n\"\"\";print(text)"
   ]
  },
  {
   "cell_type": "code",
   "execution_count": null,
   "id": "8c0aa8dd",
   "metadata": {},
   "outputs": [],
   "source": []
  }
 ],
 "metadata": {
  "kernelspec": {
   "display_name": "Python 3 (ipykernel)",
   "language": "python",
   "name": "python3"
  },
  "language_info": {
   "codemirror_mode": {
    "name": "ipython",
    "version": 3
   },
   "file_extension": ".py",
   "mimetype": "text/x-python",
   "name": "python",
   "nbconvert_exporter": "python",
   "pygments_lexer": "ipython3",
   "version": "3.11.2"
  }
 },
 "nbformat": 4,
 "nbformat_minor": 5
}
