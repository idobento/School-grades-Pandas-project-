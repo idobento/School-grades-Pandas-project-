{
 "cells": [
  {
   "cell_type": "code",
   "execution_count": 10,
   "id": "e02f54a5",
   "metadata": {},
   "outputs": [],
   "source": [
    "#validated the score is valid (number between 0 and 100)\n",
    "def score_validation(score):# TODO: what's wrong with for(x in range(3))? while is not very common in python DONE\n",
    "    global global_vars\n",
    "    #the user has 3 attempts to enter the correct score before getting back to main menu\n",
    "    for attempt in range(3):\n",
    "        try:\n",
    "            if score>=0 and score<=100:\n",
    "                # TODO: Use exceptions instead of printing errors (some use assert) DONE\n",
    "                return True\n",
    "            else:\n",
    "                raise ValueError(\"The student's score has to be a number between 0 and 100\")\n",
    "        except ValueError as e:\n",
    "                print(e)\n",
    "                print(f\"Re-enter the score, you have {3-i} attempts left:\")\n",
    "                try:\n",
    "                    score=int(input(\"score:\").strip())\n",
    "                    global_vars['score']=score\n",
    "                except ValueError:\n",
    "                    print(\"Invalid input\")\n",
    "    print(\"Check again the student's score and try again\")"
   ]
  },
  {
   "cell_type": "code",
   "execution_count": 21,
   "id": "019c9583",
   "metadata": {},
   "outputs": [],
   "source": [
    "#validate that the student/course name exists and valid\n",
    "def validation(name,column):\n",
    "    # TODO - in general - this line does nothing in case that name in column.values. \n",
    "    #try to minimize the number of lines that do nothing by switching locations- ido DONE i think (switch if/else locations)\n",
    "    global global_vars\n",
    "    if name in column.values:\n",
    "        return True\n",
    "    else:\n",
    "        return False"
   ]
  },
  {
   "cell_type": "code",
   "execution_count": 12,
   "id": "0e480cbd",
   "metadata": {},
   "outputs": [],
   "source": [
    "#will be used in case the user wants to add score that is already exist (same course and student name)\n",
    "def score_duplication_validation(student_name,course_name):\n",
    "    global main_df\n",
    "    # TODO: it's better to do this en-masse and not per student.\n",
    "    #faster quicker less code -> if main_df.groupby(['Student', 'course']).size() > 1).any(): bla bla \n",
    "    #ido- correct but its not related to the function part in the process (which is to add score to one student)\n",
    "    existing_row=main_df[(main_df['student']==student_name)&(main_df['course']==course_name)]\n",
    "    if existing_row.shape[0]>0:# shape[0] returns the # of rows for the specific student&course, >0 means that a score is already exists\n",
    "        print(f\"{student_name} already has score of {int(existing_row['score'])} in {course_name}\")\n",
    "        return False\n",
    "    else:\n",
    "        return True"
   ]
  },
  {
   "cell_type": "code",
   "execution_count": null,
   "id": "4538c9be",
   "metadata": {},
   "outputs": [],
   "source": []
  }
 ],
 "metadata": {
  "kernelspec": {
   "display_name": "Python 3 (ipykernel)",
   "language": "python",
   "name": "python3"
  },
  "language_info": {
   "codemirror_mode": {
    "name": "ipython",
    "version": 3
   },
   "file_extension": ".py",
   "mimetype": "text/x-python",
   "name": "python",
   "nbconvert_exporter": "python",
   "pygments_lexer": "ipython3",
   "version": "3.11.2"
  }
 },
 "nbformat": 4,
 "nbformat_minor": 5
}
